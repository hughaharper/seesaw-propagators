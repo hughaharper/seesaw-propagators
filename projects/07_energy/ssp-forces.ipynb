{
 "cells": [
  {
   "cell_type": "markdown",
   "id": "fb1a7a2b-48ac-4142-a930-dc19c158518d",
   "metadata": {},
   "source": [
    "# Forces driving seesaw propagation\n",
    "We'll start first with the work done by West at al. (1999). In this they present an update to the Phipp Morgan and Parmentier (1985) fracture mechanics model of ridge propagation. As in the 1985 paper, there is a focus on stress intensity factor at a ridge tip due to excess topography:\n",
    "$$\n",
    "K_I = \\frac{2}{H}\\left(\\frac{L}{\\pi}\\right)^{1/2} \\int_0^L \\frac{P\\left(x\\right)dx}{\\left(L^2 - x^2\\right)^{1/2}}\n",
    "$$\n",
    "$$\n",
    "P\\left(x\\right) = \\left(\\rho_l - \\rho_w\\right) g\\delta H/2\n",
    "$$\n",
    "\n",
    "Instead of viscous resistance to propagation at the ridge tip, there is only resistance from negative topography (which is present at all of their propagators) and forcing from positive topography in the propagating segment. They then account for the contribution of variable crustal thickness to the stress intensity factor $K_I$ Here is the relevant equation\n",
    "\n",
    "$$\n",
    "P\\left(x\\right) = \\left(\\rho_c - \\rho_w \\right) g\\delta H/2 + \\beta\\left(\\rho_m - \\rho_c\\right)g\\frac{\\left(\\rho_c - \\rho_w\\right)}{\\left(\\rho_m - \\rho_c\\right)}\\delta H/2\n",
    "$$\n",
    "\n",
    "$\\beta$ describes the degree to which seafloor is compensated by Moho and $\\delta$ is the depth of the PR tip above which is excess topo and below which is isostatically compensating Moho (see figures in paper for explanation). After comparing the driving and resisting stress intensity factors, there is always a discrepancy which, if left untreated, would imply ridge propagation in the direction opposite of the observed. To reconcile this, they attribute the excess driving force to asthenospheric flow and they estimate the flow rate based on the stress intensity factor discrepancy. \n",
    "\n",
    "Let's play around with these equations to understand them a little better..."
   ]
  },
  {
   "cell_type": "code",
   "execution_count": null,
   "id": "f963e52b-4198-44d9-80b8-89301a30c38b",
   "metadata": {},
   "outputs": [],
   "source": []
  },
  {
   "cell_type": "markdown",
   "id": "0b503e2a-77db-4b67-b8b1-ab6c5fcd17ca",
   "metadata": {},
   "source": [
    "## What are the driving forces?\n",
    "For the purposes of SSPs, we can be sure that asthenospheric flow is likely not a primary driver-- asthenospheric flow would act regionally, and we would see propagation in a consistent direction for adjacent propagators. So the question remains, what is the driving force?\n",
    "\n",
    "We can look at a couple studies for clues. First, let's look at Zheng et al. 2019. This study concludes that relatively magma-starved ridge segments will undergo more tectonic extension and that this extension will cause propagation of that segment. For those propagating segments, what is the residual stress intensity factor?"
   ]
  },
  {
   "cell_type": "code",
   "execution_count": null,
   "id": "5c90b934-cc1f-4e20-a8c9-216f76453abd",
   "metadata": {},
   "outputs": [],
   "source": []
  },
  {
   "cell_type": "markdown",
   "id": "02d9459e-6c77-4a46-96b5-12e72717d04e",
   "metadata": {},
   "source": [
    "Another study to consider is Dannowski et al. 2018, where they see exactly the opposite-- excess magma in a segment causes its propagation. The relative magma excess is quite large."
   ]
  },
  {
   "cell_type": "code",
   "execution_count": null,
   "id": "4c35b4f2-d74a-46cb-9ce5-c78a5b49d5eb",
   "metadata": {},
   "outputs": [],
   "source": []
  },
  {
   "cell_type": "markdown",
   "id": "3d385621-10a1-4ee3-82bd-11d9f7261838",
   "metadata": {},
   "source": [
    "Our task now is to assess whether the residual stress intensity factors can be explained by these mechanisms."
   ]
  },
  {
   "cell_type": "code",
   "execution_count": null,
   "id": "8cf6db78-8de7-4073-a759-11643fdc9b23",
   "metadata": {},
   "outputs": [],
   "source": [
    "      "
   ]
  }
 ],
 "metadata": {
  "kernelspec": {
   "display_name": "Python 3",
   "language": "python",
   "name": "python3"
  },
  "language_info": {
   "codemirror_mode": {
    "name": "ipython",
    "version": 3
   },
   "file_extension": ".py",
   "mimetype": "text/x-python",
   "name": "python",
   "nbconvert_exporter": "python",
   "pygments_lexer": "ipython3",
   "version": "3.7.9"
  }
 },
 "nbformat": 4,
 "nbformat_minor": 5
}
