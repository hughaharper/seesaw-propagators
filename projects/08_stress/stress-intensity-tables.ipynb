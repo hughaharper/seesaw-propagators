{
 "metadata": {
  "language_info": {
   "codemirror_mode": {
    "name": "ipython",
    "version": 3
   },
   "file_extension": ".py",
   "mimetype": "text/x-python",
   "name": "python",
   "nbconvert_exporter": "python",
   "pygments_lexer": "ipython3",
   "version": "3.9.1"
  },
  "orig_nbformat": 4,
  "kernelspec": {
   "name": "python3",
   "display_name": "Python 3.9.1 64-bit ('pygmt': conda)"
  },
  "interpreter": {
   "hash": "3b1ca69d69d14229e6aee183da12fb6349ba5a78fde98c1a919df8a905af523c"
  }
 },
 "nbformat": 4,
 "nbformat_minor": 2,
 "cells": [
  {
   "source": [
    "# Stress Intensity tables\n",
    "\n",
    "| Ridge | Lon | Lat | strike | Depth of tip | Migration rate | K |\n",
    "| ----- | ---- | -- | -- | -- | -- | -- |\n",
    "| A     | B   | c | d | e | f | g |"
   ],
   "cell_type": "markdown",
   "metadata": {}
  },
  {
   "cell_type": "code",
   "execution_count": 1,
   "metadata": {},
   "outputs": [
    {
     "output_type": "stream",
     "name": "stderr",
     "text": [
      "pygmt-session [ERROR]: Unable to open GMT shared mbsystem library: dlopen(/usr/local/lib/mbsystem.so, 1): Library not loaded: /usr/local/opt/gdal/lib/libgdal.28.dylib\n  Referenced from: /usr/local/lib/mbsystem.so\n  Reason: image not found\n"
     ]
    }
   ],
   "source": [
    "import numpy as np\n",
    "import math\n",
    "import os\n",
    "import pygmt\n",
    "import pandas as pd\n",
    "import glob\n",
    "import matplotlib.pyplot as plt\n",
    "%matplotlib inline\n",
    "from ridgetools import *"
   ]
  },
  {
   "cell_type": "code",
   "execution_count": 2,
   "metadata": {},
   "outputs": [],
   "source": [
    "def load_ridge_csv(filename):\n",
    "    ridgeData = pd.read_csv(filename,index_col=0)\n",
    "    return ridgeData\n",
    "\n",
    "def init_ridge_table(region):\n",
    "    csvDir = os.getcwd() + '/segments/' + region\n",
    "    ridgeList = glob.glob(csvDir + '/*.csv')\n",
    "    for ii,ridge in enumerate(ridgeList):\n",
    "        ridge = os.path.basename(ridge)\n",
    "        ridgeList[ii] = ridge[:-4]\n",
    "    ridgeList.sort()\n",
    "    n = len(ridgeList)\n",
    "    colLabels = ['lon','lat','strike','dep','migration','K']\n",
    "    allRidgeTable = pd.DataFrame(np.zeros((n,6)),index=ridgeList,columns=colLabels)\n",
    "    return allRidgeTable\n",
    "\n",
    "def get_ridge_table_values(ridgeData):\n",
    "    n = ridgeData.shape[0]\n",
    "    ridgeAzi = get_ridge_azimuth(ridgeData)\n",
    "    ridgeLoading = np.zeros((n,))\n",
    "    for ii in range(0,n):\n",
    "        onePoint = ridgeData.iloc[ii,:]\n",
    "        ridgeLoading[ii] = get_loading_stress(onePoint,ridgeAzi)\n",
    "    x = lonlat2x(ridgeData)\n",
    "    ridgeLoading = ridgeLoading*10e6\n",
    "    K = compute_K(x,ridgeLoading)\n",
    "    return K, ridgeAzi"
   ]
  },
  {
   "cell_type": "code",
   "execution_count": 10,
   "metadata": {},
   "outputs": [],
   "source": [
    "def get_table_for_region(region):\n",
    "    myTable = init_ridge_table(region)\n",
    "\n",
    "    for ii,ridge in enumerate(myTable.index):\n",
    "        ridgeFile = os.getcwd() + '/segments/' + region + '/' + ridge + '.csv'\n",
    "        ridgeStressData = load_ridge_csv(ridgeFile)\n",
    "        myTable.iloc[ii,-1], myTable.iloc[ii,2] = get_ridge_table_values(ridgeStressData)\n",
    "    return myTable"
   ]
  },
  {
   "cell_type": "code",
   "execution_count": 12,
   "metadata": {},
   "outputs": [
    {
     "output_type": "stream",
     "name": "stdout",
     "text": [
      "         lon  lat      strike  dep  migration             K\n102E-FR  0.0  0.0  300.258450  0.0        0.0 -6.177761e+09\n102E-PR  0.0  0.0  116.430746  0.0        0.0  3.632593e+09\n104E-FR  0.0  0.0  116.435348  0.0        0.0  4.107640e+09\n104E-PR  0.0  0.0  299.290714  0.0        0.0 -7.759111e+07\n108E-FR  0.0  0.0  119.674346  0.0        0.0  8.934020e+09\n108E-PR  0.0  0.0  119.792484  0.0        0.0  4.286389e+09\n111E-FR  0.0  0.0  289.520644  0.0        0.0  2.346785e+09\n111E-PR  0.0  0.0  293.590152  0.0        0.0  5.032265e+09\n112E-FR  0.0  0.0  115.022065  0.0        0.0  2.060625e+09\n112E-PR  0.0  0.0  290.698995  0.0        0.0  6.441691e+09\n115E-FR  0.0  0.0  106.908837  0.0        0.0  1.240959e+10\n115E-PR  0.0  0.0  285.982478  0.0        0.0  1.745038e+10\n122E-FR  0.0  0.0  105.094781  0.0        0.0  4.936279e+09\n122E-PR  0.0  0.0  275.696151  0.0        0.0  5.407785e+09\n125E-FR  0.0  0.0  115.350840  0.0        0.0  1.370992e+10\n125E-PR  0.0  0.0  304.003257  0.0        0.0  2.181406e+10\n15S-FR   0.0  0.0  142.175476  0.0        0.0  2.034490e+10\n15S-PR   0.0  0.0  154.454124  0.0        0.0  1.990530e+10\n21S-FR   0.0  0.0  150.699251  0.0        0.0  3.462722e+09\n21S-PR   0.0  0.0  149.247125  0.0        0.0  4.586353e+09\n22S-FR   0.0  0.0  152.335413  0.0        0.0  6.842154e+09\n22S-PR   0.0  0.0  147.601683  0.0        0.0  1.343726e+10\n71E-FR   0.0  0.0  142.675258  0.0        0.0  1.346841e+10\n71E-PR   0.0  0.0  323.126594  0.0        0.0  1.724034e+10\n73E-FR   0.0  0.0  321.862482  0.0        0.0  4.966556e+09\n73E-PR   0.0  0.0  321.179159  0.0        0.0  2.748981e+09\n74E-FR   0.0  0.0  135.884587  0.0        0.0  2.225685e+10\n74E-PR   0.0  0.0  135.092120  0.0        0.0  1.443341e+10\n75E-FR   0.0  0.0  142.950231  0.0        0.0  1.085132e+10\n75E-PR   0.0  0.0  146.065218  0.0        0.0  1.116085e+10\n78E-FR   0.0  0.0  140.750065  0.0        0.0  2.371115e+10\n78E-PR   0.0  0.0  141.385359  0.0        0.0  3.221947e+09\n96E-FR   0.0  0.0  300.229207  0.0        0.0 -1.861961e+09\n96E-PR   0.0  0.0  304.307940  0.0        0.0 -2.091492e+09\n"
     ]
    }
   ],
   "source": [
    "region = 'indian'\n",
    "oneTable = get_table_for_region(region)\n",
    "\n",
    "print(oneTable)"
   ]
  },
  {
   "cell_type": "code",
   "execution_count": null,
   "metadata": {},
   "outputs": [],
   "source": []
  }
 ]
}